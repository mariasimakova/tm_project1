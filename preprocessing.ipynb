{
 "cells": [
  {
   "cell_type": "code",
   "execution_count": 21,
   "metadata": {},
   "outputs": [],
   "source": [
    "import nltk \n",
    "import re\n",
    "import pandas as pd\n",
    "from nltk.tokenize import word_tokenize\n",
    "from nltk.corpus import stopwords\n",
    "#from nltk.stem import PorsterStemmer\n",
    "from nltk.stem import SnowballStemmer\n",
    "from nltk.stem import WordNetLemmatizer\n",
    "import spacy\n",
    "import numpy as np\n",
    "import matplotlib.pyplot as plt\n",
    "import seaborn as sns\n",
    "import re\n",
    "from wordcloud import WordCloud\n",
    "from datetime import datetime"
   ]
  },
  {
   "cell_type": "code",
   "execution_count": 35,
   "metadata": {},
   "outputs": [
    {
     "name": "stdout",
     "output_type": "stream",
     "text": [
      "           City              Date Period  \\\n",
      "0     Barcelona  2025-05-21 : 2025-05-25   \n",
      "1     Barcelona  2025-05-21 : 2025-05-25   \n",
      "2     Barcelona  2025-05-21 : 2025-05-25   \n",
      "3     Barcelona  2025-05-21 : 2025-05-25   \n",
      "4     Barcelona  2025-05-21 : 2025-05-25   \n",
      "...         ...                      ...   \n",
      "3875   Valencia  2025-06-04 : 2025-06-08   \n",
      "3876   Valencia  2025-06-04 : 2025-06-08   \n",
      "3877   Valencia  2025-06-04 : 2025-06-08   \n",
      "3878   Valencia  2025-06-04 : 2025-06-08   \n",
      "3879   Valencia  2025-06-04 : 2025-06-08   \n",
      "\n",
      "                                               Hotel  Prices  Ratings  \\\n",
      "0                            Be Mate Paseo de Gracia  1443.0      8.9   \n",
      "1                                 Hotel La Pau 4 Sup  2568.0      9.6   \n",
      "2          Four Points by Sheraton Barcelona Airport   531.0      8.7   \n",
      "3                                    Tembo Barcelona  1707.0      8.8   \n",
      "4             Axel TWO Barcelona 4 Sup - Adults Only   976.0      8.3   \n",
      "...                                              ...     ...      ...   \n",
      "3875                      NEW Beach Flats Valencia 3   895.0     10.0   \n",
      "3876                               L'Otelet By Sweet   390.0      7.7   \n",
      "3877                         Apartamento Cienciasmar   536.0      3.9   \n",
      "3878                    Pelayo with terrace Mid-term  1250.0      6.6   \n",
      "3879  FLORIT FLATS - The Maritim Serreria Apartments   929.0      9.0   \n",
      "\n",
      "                                            Description  \n",
      "0     El Be Mate Paseo de Gracia, situado en Barcelo...  \n",
      "1     El Hotel La Pau 4 Sup está situado en el centr...  \n",
      "2     Four Points by Sheraton Barcelona Airport está...  \n",
      "3     Tembo Barcelona está en Barcelona, a 16 min a ...  \n",
      "4     El TWO Hotel Barcelona by Axel está situado en...  \n",
      "...                                                 ...  \n",
      "3875  NEW Beach Flats Valencia 3 se encuentra en Val...  \n",
      "3876  L'Otelet By Sweet está en Valencia, a 5,5 km d...  \n",
      "3877  Apartamento Cienciasmar está en Valencia y ofr...  \n",
      "3878  Pelayo with terrace Mid-term está en Valencia,...  \n",
      "3879  FLORIT FLATS - The Maritim Serreria Apartments...  \n",
      "\n",
      "[3880 rows x 6 columns]\n"
     ]
    }
   ],
   "source": [
    "data1=pd.read_csv('./dfhotelsbcnwithdescrmay.csv')\n",
    "data2=pd.read_csv('./dfhotelsbcnwithdescrjune.csv')\n",
    "data3=pd.read_csv('./dfhotelsvalwithdescrmay.csv')\n",
    "data4=pd.read_csv('./dfhotelsvalwithdescrjune.csv')\n",
    "combined_data = pd.concat([data1, data2, data3, data4], ignore_index=True)\n",
    "print(combined_data)"
   ]
  },
  {
   "cell_type": "markdown",
   "metadata": {},
   "source": [
    "### Data Cleaning & Preprocessing"
   ]
  },
  {
   "cell_type": "code",
   "execution_count": 23,
   "metadata": {},
   "outputs": [
    {
     "name": "stdout",
     "output_type": "stream",
     "text": [
      "Number of duplicate rows: 0\n"
     ]
    }
   ],
   "source": [
    "# Count the number of duplicates\n",
    "num_duplicates = combined_data.shape[0] - combined_data.drop_duplicates().shape[0]\n",
    "\n",
    "print(f\"Number of duplicate rows: {num_duplicates}\")\n"
   ]
  },
  {
   "cell_type": "code",
   "execution_count": 24,
   "metadata": {},
   "outputs": [],
   "source": [
    "combined_data['Prices'] = pd.to_numeric(combined_data['Prices'], errors='coerce')\n",
    "combined_data['Ratings'] = pd.to_numeric(combined_data['Ratings'], errors='coerce')"
   ]
  },
  {
   "cell_type": "markdown",
   "metadata": {},
   "source": [
    "Inpute missing values based on hotel rating and price"
   ]
  },
  {
   "cell_type": "code",
   "execution_count": 25,
   "metadata": {},
   "outputs": [],
   "source": [
    "combined_data['Ratings'] = combined_data['Ratings'].fillna(combined_data['Ratings'].median())\n"
   ]
  },
  {
   "cell_type": "code",
   "execution_count": 26,
   "metadata": {},
   "outputs": [
    {
     "name": "stdout",
     "output_type": "stream",
     "text": [
      "City           0\n",
      "Date Period    0\n",
      "Hotel          0\n",
      "Prices         0\n",
      "Ratings        0\n",
      "Description    0\n",
      "dtype: int64\n"
     ]
    }
   ],
   "source": [
    "# Count total missing values in each column\n",
    "missing_counts = combined_data.isna().sum()\n",
    "print(missing_counts)"
   ]
  },
  {
   "cell_type": "code",
   "execution_count": 29,
   "metadata": {},
   "outputs": [
    {
     "name": "stdout",
     "output_type": "stream",
     "text": [
      "             Prices      Ratings\n",
      "count   3880.000000  3880.000000\n",
      "mean    1332.909794     8.253789\n",
      "std     1204.417659     0.977178\n",
      "min      156.000000     1.000000\n",
      "25%      684.000000     8.000000\n",
      "50%     1019.000000     8.400000\n",
      "75%     1496.500000     8.800000\n",
      "max    17335.000000    10.000000\n"
     ]
    }
   ],
   "source": [
    "# Summary statistics for Prices and Ratings\n",
    "print(combined_data[['Prices', 'Ratings']].describe())\n",
    "\n",
    "# Group by city and date\n",
    "city_prices = combined_data.groupby(['City', 'Date Period'])['Prices'].mean().reset_index()\n"
   ]
  },
  {
   "cell_type": "code",
   "execution_count": 31,
   "metadata": {},
   "outputs": [
    {
     "data": {
      "image/png": "[encoded data removed]",
      "text/plain": [
       "<Figure size 1000x500 with 1 Axes>"
      ]
     },
     "metadata": {},
     "output_type": "display_data"
    }
   ],
   "source": [
    "plt.figure(figsize=(10,5))\n",
    "sns.histplot(combined_data['Prices'], bins=30, kde=True)\n",
    "plt.title('Distribution of Hotel Prices')\n",
    "plt.xlabel('Price')\n",
    "plt.ylabel('Frequency')\n",
    "plt.show()\n"
   ]
  },
  {
   "cell_type": "code",
   "execution_count": null,
   "metadata": {},
   "outputs": [],
   "source": [
    "nltk.download('stopwords')\n",
    "\n",
    "porter=SnowballStemmer(\"english\") \n",
    "lmtzr = WordNetLemmatizer()  \n",
    "\n",
    "STOP_WORDS = set(stopwords.words('english'))"
   ]
  },
  {
   "cell_type": "code",
   "execution_count": null,
   "metadata": {},
   "outputs": [],
   "source": [
    "def preprocess_lower(text):\n",
    "    \"\"\"\n",
    "    Preprocess text by:\n",
    "       - Converting to lowercase.\n",
    "       - Removing punctuation.\n",
    "       - Tokenizing.\n",
    "       - Removing stopwords.\n",
    "    \n",
    "    Returns:\n",
    "        List[str]: A list of tokens.\n",
    "    \"\"\"\n",
    "    # Lowercase the text\n",
    "    text_lower = text.lower()\n",
    "\n",
    "    # Remove punctuation (everything except word characters and whitespace)\n",
    "    text_no_punct = re.sub(r'[^\\w\\s]', '', text_lower)\n",
    "\n",
    "    # Tokenize the cleaned text.\n",
    "    tokens = word_tokenize(text_no_punct) #divide el texto en palabras individuales\n",
    "\n",
    "    # Filter out stopwords.\n",
    "    filtered_tokens = [token for token in tokens if token not in STOP_WORDS]\n",
    "\n",
    "    return \" \".join(filtered_tokens)\n",
    "\n",
    "\n",
    "def preprocess_stem(text):\n",
    "    \"\"\"\n",
    "    Preprocess text by performing all steps in preprocess_lower() and then applying stemming.\n",
    "    \n",
    "    Returns:\n",
    "        List[str]: A list of stemmed tokens.\n",
    "    \"\"\"\n",
    "    # Get the cleaned lowercased and stopwords-removed tokens.\n",
    "    joined_tokens = preprocess_lower(text)\n",
    "    \n",
    "    tokens=word_tokenize(joined_tokens)\n",
    "\n",
    "    # Initialize the Porter Stemmer.\n",
    "    ps = PorterStemmer()\n",
    "\n",
    "    # Stem each token.\n",
    "    stemmed_tokens = [ps.stem(token) for token in tokens]\n",
    "\n",
    "    return \" \".join(stemmed_tokens)"
   ]
  },
  {
   "cell_type": "code",
   "execution_count": null,
   "metadata": {},
   "outputs": [],
   "source": [
    "# Initialize a list to store the processed results\n",
    "processed_descriptions = []\n",
    "\n",
    "# Loop through the raw descriptions in the `descriptions` list\n",
    "for desc in descriptions:\n",
    "    raw_description = desc[\"Raw Description\"] if isinstance(desc, dict) else desc\n",
    "\n",
    "    if raw_description != \"Descripción no encontrada\":\n",
    "        # Apply lowercasing, punctuation removal, and stopword removal\n",
    "        preprocessed_lower = preprocess_lower(raw_description)\n",
    "\n",
    "        # Apply stemming\n",
    "        preprocessed_stem = preprocess_stem(preprocessed_lower)\n",
    "\n",
    "        # Store the processed results in a dictionary\n",
    "        processed_descriptions.append({\n",
    "            \"Raw Description\": raw_description,\n",
    "            \"Processed (Lowercase, No Stopwords)\": preprocessed_lower,\n",
    "            \"Processed (Stemming)\": preprocessed_stem\n",
    "        })\n",
    "    else:\n",
    "        # Handle missing descriptions\n",
    "        processed_descriptions.append({\n",
    "            \"Raw Description\": raw_description,\n",
    "            \"Processed (Lowercase, No Stopwords)\": \"No processing - No description available\",\n",
    "            \"Processed (Stemming)\": \"No processing - No description available\"\n",
    "        })\n",
    "\n",
    "# Print the processed descriptions\n",
    "print(\"\\nProcessed Descriptions:\")\n",
    "for i, desc in enumerate(processed_descriptions):\n",
    "    print(f\"Hotel {i + 1}:\")\n",
    "    print(f\"  Raw Description: {desc['Raw Description']}\")\n",
    "    print(f\"  Processed (Lowercase, No Stopwords): {desc['Processed (Lowercase, No Stopwords)']}\")\n",
    "    print(f\"  Processed (Stemming): {desc['Processed (Stemming)']}\")\n",
    "\n",
    "# Optionally, save the processed descriptions to a CSV for further analysis\n",
    "import pandas as pd\n",
    "df = pd.DataFrame(processed_descriptions)\n",
    "df.to_csv(\"processed_hotel_descriptions.csv\", index=False, encoding=\"utf-8\")\n",
    "print(\"\\nProcessed descriptions saved to 'processed_hotel_descriptions.csv'\")\n"
   ]
  }
 ],
 "metadata": {
  "kernelspec": {
   "display_name": "base",
   "language": "python",
   "name": "python3"
  },
  "language_info": {
   "codemirror_mode": {
    "name": "ipython",
    "version": 3
   },
   "file_extension": ".py",
   "mimetype": "text/x-python",
   "name": "python",
   "nbconvert_exporter": "python",
   "pygments_lexer": "ipython3",
   "version": "3.12.3"
  }
 },
 "nbformat": 4,
 "nbformat_minor": 2
}
