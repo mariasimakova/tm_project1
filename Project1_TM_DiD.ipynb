{
 "cells": [
  {
   "cell_type": "markdown",
   "metadata": {},
   "source": [
    "## Project 1 Text Mining - Difference in Difference\n",
    "\n",
    "##### Team: Elisa Scocco | Maria Simakova Mariukha | Victor Sobottka"
   ]
  },
  {
   "cell_type": "markdown",
   "metadata": {},
   "source": [
    "## 3 - a)"
   ]
  },
  {
   "cell_type": "code",
   "execution_count": 1,
   "metadata": {},
   "outputs": [],
   "source": [
    "import nltk \n",
    "import re\n",
    "import pandas as pd\n",
    "from nltk.tokenize import word_tokenize\n",
    "from nltk.corpus import stopwords\n",
    "#from nltk.stem import PorsterStemmer\n",
    "from nltk.stem import SnowballStemmer\n",
    "from nltk.stem import WordNetLemmatizer\n",
    "import spacy\n",
    "import numpy as np\n",
    "import matplotlib.pyplot as plt\n",
    "import seaborn as sns\n",
    "import re\n",
    "from wordcloud import WordCloud\n",
    "from datetime import datetime"
   ]
  },
  {
   "cell_type": "code",
   "execution_count": 3,
   "metadata": {},
   "outputs": [],
   "source": [
    "data1=pd.read_csv('./dfhotelsbcnwithdescrmay.csv')\n",
    "data2=pd.read_csv('./dfhotelsbcnwithdescrjune.csv')\n",
    "data3=pd.read_csv('./dfhotelsvalwithdescrmay.csv')\n",
    "data4=pd.read_csv('./dfhotelsvalwithdescrjune.csv')\n",
    "combined_data = pd.concat([data1, data2, data3, data4], ignore_index=True)\n"
   ]
  },
  {
   "cell_type": "code",
   "execution_count": 7,
   "metadata": {},
   "outputs": [
    {
     "data": {
      "text/html": [
       "<div>\n",
       "<style scoped>\n",
       "    .dataframe tbody tr th:only-of-type {\n",
       "        vertical-align: middle;\n",
       "    }\n",
       "\n",
       "    .dataframe tbody tr th {\n",
       "        vertical-align: top;\n",
       "    }\n",
       "\n",
       "    .dataframe thead th {\n",
       "        text-align: right;\n",
       "    }\n",
       "</style>\n",
       "<table border=\"1\" class=\"dataframe\">\n",
       "  <thead>\n",
       "    <tr style=\"text-align: right;\">\n",
       "      <th></th>\n",
       "      <th>City</th>\n",
       "      <th>Date Period</th>\n",
       "      <th>Hotel</th>\n",
       "      <th>Prices</th>\n",
       "      <th>Ratings</th>\n",
       "      <th>Description</th>\n",
       "    </tr>\n",
       "  </thead>\n",
       "  <tbody>\n",
       "    <tr>\n",
       "      <th>0</th>\n",
       "      <td>Barcelona</td>\n",
       "      <td>2025-05-21 : 2025-05-25</td>\n",
       "      <td>Be Mate Paseo de Gracia</td>\n",
       "      <td>1443.0</td>\n",
       "      <td>8.9</td>\n",
       "      <td>El Be Mate Paseo de Gracia, situado en Barcelo...</td>\n",
       "    </tr>\n",
       "    <tr>\n",
       "      <th>1</th>\n",
       "      <td>Barcelona</td>\n",
       "      <td>2025-05-21 : 2025-05-25</td>\n",
       "      <td>Hotel La Pau 4 Sup</td>\n",
       "      <td>2568.0</td>\n",
       "      <td>9.6</td>\n",
       "      <td>El Hotel La Pau 4 Sup está situado en el centr...</td>\n",
       "    </tr>\n",
       "    <tr>\n",
       "      <th>2</th>\n",
       "      <td>Barcelona</td>\n",
       "      <td>2025-05-21 : 2025-05-25</td>\n",
       "      <td>Four Points by Sheraton Barcelona Airport</td>\n",
       "      <td>531.0</td>\n",
       "      <td>8.7</td>\n",
       "      <td>Four Points by Sheraton Barcelona Airport está...</td>\n",
       "    </tr>\n",
       "    <tr>\n",
       "      <th>3</th>\n",
       "      <td>Barcelona</td>\n",
       "      <td>2025-05-21 : 2025-05-25</td>\n",
       "      <td>Tembo Barcelona</td>\n",
       "      <td>1707.0</td>\n",
       "      <td>8.8</td>\n",
       "      <td>Tembo Barcelona está en Barcelona, a 16 min a ...</td>\n",
       "    </tr>\n",
       "    <tr>\n",
       "      <th>4</th>\n",
       "      <td>Barcelona</td>\n",
       "      <td>2025-05-21 : 2025-05-25</td>\n",
       "      <td>Axel TWO Barcelona 4 Sup - Adults Only</td>\n",
       "      <td>976.0</td>\n",
       "      <td>8.3</td>\n",
       "      <td>El TWO Hotel Barcelona by Axel está situado en...</td>\n",
       "    </tr>\n",
       "    <tr>\n",
       "      <th>...</th>\n",
       "      <td>...</td>\n",
       "      <td>...</td>\n",
       "      <td>...</td>\n",
       "      <td>...</td>\n",
       "      <td>...</td>\n",
       "      <td>...</td>\n",
       "    </tr>\n",
       "    <tr>\n",
       "      <th>3875</th>\n",
       "      <td>Valencia</td>\n",
       "      <td>2025-06-04 : 2025-06-08</td>\n",
       "      <td>NEW Beach Flats Valencia 3</td>\n",
       "      <td>895.0</td>\n",
       "      <td>10.0</td>\n",
       "      <td>NEW Beach Flats Valencia 3 se encuentra en Val...</td>\n",
       "    </tr>\n",
       "    <tr>\n",
       "      <th>3876</th>\n",
       "      <td>Valencia</td>\n",
       "      <td>2025-06-04 : 2025-06-08</td>\n",
       "      <td>L'Otelet By Sweet</td>\n",
       "      <td>390.0</td>\n",
       "      <td>7.7</td>\n",
       "      <td>L'Otelet By Sweet está en Valencia, a 5,5 km d...</td>\n",
       "    </tr>\n",
       "    <tr>\n",
       "      <th>3877</th>\n",
       "      <td>Valencia</td>\n",
       "      <td>2025-06-04 : 2025-06-08</td>\n",
       "      <td>Apartamento Cienciasmar</td>\n",
       "      <td>536.0</td>\n",
       "      <td>3.9</td>\n",
       "      <td>Apartamento Cienciasmar está en Valencia y ofr...</td>\n",
       "    </tr>\n",
       "    <tr>\n",
       "      <th>3878</th>\n",
       "      <td>Valencia</td>\n",
       "      <td>2025-06-04 : 2025-06-08</td>\n",
       "      <td>Pelayo with terrace Mid-term</td>\n",
       "      <td>1250.0</td>\n",
       "      <td>6.6</td>\n",
       "      <td>Pelayo with terrace Mid-term está en Valencia,...</td>\n",
       "    </tr>\n",
       "    <tr>\n",
       "      <th>3879</th>\n",
       "      <td>Valencia</td>\n",
       "      <td>2025-06-04 : 2025-06-08</td>\n",
       "      <td>FLORIT FLATS - The Maritim Serreria Apartments</td>\n",
       "      <td>929.0</td>\n",
       "      <td>9.0</td>\n",
       "      <td>FLORIT FLATS - The Maritim Serreria Apartments...</td>\n",
       "    </tr>\n",
       "  </tbody>\n",
       "</table>\n",
       "<p>3880 rows × 6 columns</p>\n",
       "</div>"
      ],
      "text/plain": [
       "           City              Date Period  \\\n",
       "0     Barcelona  2025-05-21 : 2025-05-25   \n",
       "1     Barcelona  2025-05-21 : 2025-05-25   \n",
       "2     Barcelona  2025-05-21 : 2025-05-25   \n",
       "3     Barcelona  2025-05-21 : 2025-05-25   \n",
       "4     Barcelona  2025-05-21 : 2025-05-25   \n",
       "...         ...                      ...   \n",
       "3875   Valencia  2025-06-04 : 2025-06-08   \n",
       "3876   Valencia  2025-06-04 : 2025-06-08   \n",
       "3877   Valencia  2025-06-04 : 2025-06-08   \n",
       "3878   Valencia  2025-06-04 : 2025-06-08   \n",
       "3879   Valencia  2025-06-04 : 2025-06-08   \n",
       "\n",
       "                                               Hotel  Prices  Ratings  \\\n",
       "0                            Be Mate Paseo de Gracia  1443.0      8.9   \n",
       "1                                 Hotel La Pau 4 Sup  2568.0      9.6   \n",
       "2          Four Points by Sheraton Barcelona Airport   531.0      8.7   \n",
       "3                                    Tembo Barcelona  1707.0      8.8   \n",
       "4             Axel TWO Barcelona 4 Sup - Adults Only   976.0      8.3   \n",
       "...                                              ...     ...      ...   \n",
       "3875                      NEW Beach Flats Valencia 3   895.0     10.0   \n",
       "3876                               L'Otelet By Sweet   390.0      7.7   \n",
       "3877                         Apartamento Cienciasmar   536.0      3.9   \n",
       "3878                    Pelayo with terrace Mid-term  1250.0      6.6   \n",
       "3879  FLORIT FLATS - The Maritim Serreria Apartments   929.0      9.0   \n",
       "\n",
       "                                            Description  \n",
       "0     El Be Mate Paseo de Gracia, situado en Barcelo...  \n",
       "1     El Hotel La Pau 4 Sup está situado en el centr...  \n",
       "2     Four Points by Sheraton Barcelona Airport está...  \n",
       "3     Tembo Barcelona está en Barcelona, a 16 min a ...  \n",
       "4     El TWO Hotel Barcelona by Axel está situado en...  \n",
       "...                                                 ...  \n",
       "3875  NEW Beach Flats Valencia 3 se encuentra en Val...  \n",
       "3876  L'Otelet By Sweet está en Valencia, a 5,5 km d...  \n",
       "3877  Apartamento Cienciasmar está en Valencia y ofr...  \n",
       "3878  Pelayo with terrace Mid-term está en Valencia,...  \n",
       "3879  FLORIT FLATS - The Maritim Serreria Apartments...  \n",
       "\n",
       "[3880 rows x 6 columns]"
      ]
     },
     "execution_count": 7,
     "metadata": {},
     "output_type": "execute_result"
    }
   ],
   "source": [
    "combined_data\n"
   ]
  },
  {
   "cell_type": "code",
   "execution_count": 14,
   "metadata": {},
   "outputs": [
    {
     "data": {
      "text/plain": [
       "0       1\n",
       "1       1\n",
       "2       1\n",
       "3       1\n",
       "4       1\n",
       "       ..\n",
       "3875    0\n",
       "3876    0\n",
       "3877    0\n",
       "3878    0\n",
       "3879    0\n",
       "Name: Treatment, Length: 3880, dtype: int64"
      ]
     },
     "execution_count": 14,
     "metadata": {},
     "output_type": "execute_result"
    }
   ],
   "source": [
    "#Creating the column treatment, 1 for treated group 0 for control group\n",
    "combined_data['Treatment'] = (combined_data['City'] == \"Barcelona\").astype(int)\n",
    "combined_data['Treatment']"
   ]
  },
  {
   "cell_type": "code",
   "execution_count": 15,
   "metadata": {},
   "outputs": [],
   "source": [
    "combined_data['Time_Period'] = combined_data['Date Period'].apply(\n",
    "    lambda x: 1 if x in ['2025-06-04 : 2025-06-08'] else 0\n",
    ")\n"
   ]
  },
  {
   "cell_type": "code",
   "execution_count": null,
   "metadata": {},
   "outputs": [],
   "source": [
    "combined_data"
   ]
  },
  {
   "cell_type": "code",
   "execution_count": 16,
   "metadata": {},
   "outputs": [],
   "source": [
    "combined_data.to_csv('combined_data.csv', index=False)  # index=False avoids writing row indices\n"
   ]
  },
  {
   "cell_type": "markdown",
   "metadata": {},
   "source": [
    "## Difference-in-Differences (DiD) Model\n",
    "\n",
    "The standard Difference-in-Differences (DiD) equation is:\n",
    "\n",
    "$$\n",
    "Y_{it} = \\alpha + \\beta \\text{Post}_t + \\gamma \\text{Treatment}_i + \\delta (\\text{Post}_t \\times \\text{Treatment}_i) + X_{it} \\theta + \\epsilon_{it}\n",
    "$$\n",
    "\n",
    "where:\n",
    "\n",
    "- \\( Y_{it} \\) is the outcome variable for unit \\( i \\) at time \\( t \\).\n",
    "- \\( \\alpha \\) is the intercept.\n",
    "- \\( \\beta \\) represents the effect of the post-treatment period.\n",
    "- \\( \\gamma \\) represents the effect of being in the treatment group.\n",
    "- \\( \\delta \\) is the **Difference-in-Differences estimator**, measuring the treatment effect.\n",
    "- \\( X_{it} \\) is a vector of control variables with associated coefficients \\( \\theta \\).\n",
    "- \\( \\epsilon_{it} \\) is the error term.\n",
    "\n",
    "### Interpretation:\n",
    "The coefficient \\( \\delta \\) captures the **causal effect of the treatment**, comparing the difference in outcomes **before and after treatment** for the treated group relative to the control group.\n",
    "\n"
   ]
  },
  {
   "cell_type": "markdown",
   "metadata": {},
   "source": [
    "For the analysis:\n",
    "    \n",
    "    Intercept (α): The average price in Valencia before the event.\n",
    "\n",
    "    Treatment (γ): The baseline difference between Barcelona and Valencia before the event.\n",
    "\n",
    "    Time_Period (β): The effect of the event on Valencia (control group).\n",
    "\n",
    "    Interaction Term (δ): The Difference-in-Differences estimator, capturing the effect of the event on Barcelona relative to Valencia.\n",
    "\n",
    "If δ is statistically significant, it suggests that the event had a causal effect on prices in Barcelona."
   ]
  },
  {
   "cell_type": "code",
   "execution_count": 20,
   "metadata": {},
   "outputs": [
    {
     "name": "stdout",
     "output_type": "stream",
     "text": [
      "                            OLS Regression Results                            \n",
      "==============================================================================\n",
      "Dep. Variable:                 Prices   R-squared:                       0.264\n",
      "Model:                            OLS   Adj. R-squared:                  0.264\n",
      "Method:                 Least Squares   F-statistic:                     463.8\n",
      "Date:                Sat, 01 Feb 2025   Prob (F-statistic):          1.83e-257\n",
      "Time:                        17:19:47   Log-Likelihood:                -32434.\n",
      "No. Observations:                3880   AIC:                         6.488e+04\n",
      "Df Residuals:                    3876   BIC:                         6.490e+04\n",
      "Df Model:                           3                                         \n",
      "Covariance Type:            nonrobust                                         \n",
      "=========================================================================================\n",
      "                            coef    std err          t      P>|t|      [0.025      0.975]\n",
      "-----------------------------------------------------------------------------------------\n",
      "Intercept               753.3463     34.002     22.156      0.000     686.682     820.010\n",
      "Treatment               663.5172     47.634     13.930      0.000     570.128     756.907\n",
      "Time_Period              77.5986     47.175      1.645      0.100     -14.892     170.090\n",
      "Treatment:Time_Period   797.7093     66.406     12.013      0.000     667.514     927.904\n",
      "==============================================================================\n",
      "Omnibus:                     4298.061   Durbin-Watson:                   1.106\n",
      "Prob(Omnibus):                  0.000   Jarque-Bera (JB):           511855.333\n",
      "Skew:                           5.516   Prob(JB):                         0.00\n",
      "Kurtosis:                      58.176   Cond. No.                         6.98\n",
      "==============================================================================\n",
      "\n",
      "Notes:\n",
      "[1] Standard Errors assume that the covariance matrix of the errors is correctly specified.\n"
     ]
    }
   ],
   "source": [
    "import statsmodels.api as sm\n",
    "import statsmodels.formula.api as smf\n",
    "\n",
    "# Define the Difference-in-Differences model\n",
    "model = smf.ols('Prices ~ Treatment + Time_Period + Treatment*Time_Period', data=combined_data).fit()\n",
    "\n",
    "# Print the regression summary\n",
    "print(model.summary())\n"
   ]
  },
  {
   "cell_type": "markdown",
   "metadata": {},
   "source": [
    "Coefficients and Interpretation:\n",
    "\n",
    "    Intercept (753.35): This is the average price of houses for Valencia (the control group) in the pre-treatment period. In other words, this represents the baseline price when both the Treatment and Time_Period are 0 (Valencia before the treatment).\n",
    "\n",
    "    Treatment (663.52): This coefficient tells you the price difference between Barcelona (treated group) and Valencia (control group) in the pre-treatment period.\n",
    "        A coefficient of 663.52 means that, on average, house prices in Barcelona are 663.52 higher than in Valencia before the treatment. This gives us an initial difference in prices between the two cities before the treatment period.\n",
    "\n",
    "    Time_Period (77.60): This coefficient measures the overall effect of time on house prices, regardless of whether the location is Barcelona or Valencia. It tells us how much the average house price increased in the post-treatment period for both cities, on average.\n",
    "        Since the coefficient is 77.60 and it's not statistically significant (p-value = 0.100), we don't interpret this as a clear time-based effect. It suggests that the time period alone has a small and possibly insignificant impact on house prices.\n",
    "\n",
    "    Treatment:Time_Period (797.71): This is the difference-in-differences coefficient. It captures the additional effect of being in Barcelona (treated group) during the post-treatment period. This is the key coefficient for estimating the causal effect of the treatment.\n",
    "        A coefficient of 797.71 means that, in the post-treatment period, house prices in Barcelona increase by 797.71 more than house prices in Valencia, compared to the pre-treatment period.\n",
    "        This is a statistically significant result (p-value = 0.000), suggesting that the treatment (which could be some intervention or change in policy in Barcelona) has a significant impact on house prices in Barcelona relative to Valencia.\n",
    "\n",
    "Statistical Significance:\n",
    "\n",
    "    p-values:\n",
    "        The p-value for Treatment is 0.000, which is highly significant, meaning the difference in prices between Barcelona and Valencia before the treatment is significant.\n",
    "        The p-value for Time_Period is 0.100, which is not significant at the usual 5% level, indicating that the time effect alone does not have a significant impact on prices.\n",
    "        The p-value for Treatment:Time_Period is 0.000, which is very significant, meaning that the difference-in-differences effect (i.e., the impact of the treatment in Barcelona) is highly statistically significant.\n",
    "\n",
    "Other Statistics:\n",
    "\n",
    "    R-squared (0.264): This indicates that approximately 26.4% of the variation in house prices is explained by the model, which suggests a moderate fit. While this is not a very high value, it's reasonable for social science and economics data.\n",
    "    F-statistic (463.8) and its p-value (1.83e-257) are very significant, indicating that the model overall explains the data well.\n",
    "    Durbin-Watson statistic (1.106): This statistic is used to check for autocorrelation in the residuals. Values close to 2 suggest no autocorrelation, and this value (1.106) indicates some positive autocorrelation."
   ]
  },
  {
   "cell_type": "code",
   "execution_count": 23,
   "metadata": {},
   "outputs": [
    {
     "data": {
      "image/png": "[encoded data removed]",
      "text/plain": [
       "<Figure size 800x600 with 1 Axes>"
      ]
     },
     "metadata": {},
     "output_type": "display_data"
    }
   ],
   "source": [
    "import seaborn as sns\n",
    "import matplotlib.pyplot as plt\n",
    "\n",
    "# Calculate mean Prices for each group and time period\n",
    "df_grouped = combined_data.groupby(['Treatment', 'Time_Period'])['Prices'].mean().reset_index()\n",
    "\n",
    "# Replace numeric labels with text for readability\n",
    "df_grouped['City'] = df_grouped['Treatment'].map({1: 'Barcelona', 0: 'Valencia'})\n",
    "df_grouped['Period'] = df_grouped['Time_Period'].map({1: 'During Event', 0: 'Before Event'})\n",
    "\n",
    "# Plot\n",
    "plt.figure(figsize=(8,6))\n",
    "sns.lineplot(data=df_grouped, x='Period', y='Prices', hue='City', marker='o')\n",
    "plt.title('Difference-in-Differences: Prices Changes in Barcelona vs. Valencia')\n",
    "plt.ylabel('Average Prices')\n",
    "plt.xlabel('Time Period')\n",
    "plt.show()\n"
   ]
  },
  {
   "cell_type": "markdown",
   "metadata": {},
   "source": [
    "Now let's add the feature \"Ratings\" to evaluate the changes in prices\n",
    "\n",
    "The coefficient for Ratings will tell you how much the house prices change for each unit increase in Ratings, holding all other factors constant (including the treatment and time period).\n"
   ]
  },
  {
   "cell_type": "code",
   "execution_count": 25,
   "metadata": {},
   "outputs": [
    {
     "name": "stdout",
     "output_type": "stream",
     "text": [
      "                            OLS Regression Results                            \n",
      "==============================================================================\n",
      "Dep. Variable:                 Prices   R-squared:                       0.278\n",
      "Model:                            OLS   Adj. R-squared:                  0.277\n",
      "Method:                 Least Squares   F-statistic:                     350.9\n",
      "Date:                Sat, 01 Feb 2025   Prob (F-statistic):          6.19e-256\n",
      "Time:                        18:00:41   Log-Likelihood:                -30290.\n",
      "No. Observations:                3656   AIC:                         6.059e+04\n",
      "Df Residuals:                    3651   BIC:                         6.062e+04\n",
      "Df Model:                           4                                         \n",
      "Covariance Type:            nonrobust                                         \n",
      "=========================================================================================\n",
      "                            coef    std err          t      P>|t|      [0.025      0.975]\n",
      "-----------------------------------------------------------------------------------------\n",
      "Intercept               509.7781    138.596      3.678      0.000     238.045     781.512\n",
      "Treatment               645.4042     45.827     14.083      0.000     555.555     735.253\n",
      "Time_Period              74.0251     45.436      1.629      0.103     -15.058     163.108\n",
      "Treatment:Time_Period   765.1640     63.542     12.042      0.000     640.582     889.746\n",
      "Ratings                  29.4193     15.983      1.841      0.066      -1.916      60.755\n",
      "==============================================================================\n",
      "Omnibus:                     3622.464   Durbin-Watson:                   0.992\n",
      "Prob(Omnibus):                  0.000   Jarque-Bera (JB):           261432.675\n",
      "Skew:                           4.710   Prob(JB):                         0.00\n",
      "Kurtosis:                      43.342   Cond. No.                         74.5\n",
      "==============================================================================\n",
      "\n",
      "Notes:\n",
      "[1] Standard Errors assume that the covariance matrix of the errors is correctly specified.\n"
     ]
    }
   ],
   "source": [
    "model = smf.ols('Prices ~ Treatment + Time_Period + Treatment*Time_Period + Ratings', data=combined_data).fit()\n",
    "print(model.summary())"
   ]
  },
  {
   "cell_type": "markdown",
   "metadata": {},
   "source": [
    "Coefficient for Ratings: 29.42\n",
    "\n",
    "    The Ratings variable has a coefficient of 29.42, which means that for each unit increase in the Ratings of a house, the house price is expected to increase by 29.42 units, holding all other factors constant (i.e., Treatment, Time_Period, and the interaction term).\n",
    "\n",
    "Statistical Significance:\n",
    "\n",
    "    The p-value for Ratings is 0.066, which is just above the typical significance level of 0.05. This means that Ratings is not statistically significant at the 5% level, but it is marginally significant at the 10% level. You might interpret this as suggesting that Ratings have some effect on house prices, but the evidence is weaker compared to other factors like the Treatment and Time_Period.\n",
    "\n",
    "Confidence Interval:\n",
    "\n",
    "    The 95% confidence interval for Ratings is [-1.92, 60.76]. This means we are 95% confident that the true effect of Ratings on house prices lies within this range.\n",
    "        Since the confidence interval includes 0, it reinforces the idea that the effect of Ratings might not be significant because the effect could potentially be zero (i.e., no effect on prices).\n",
    "\n",
    "Practical Interpretation:\n",
    "\n",
    "    While the coefficient suggests that Ratings have a positive impact on house prices, the lack of strong statistical significance (p-value = 0.066) means that Ratings might not have a strong or reliable effect on house prices. It's still possible that other unaccounted factors are influencing prices more strongly.\n",
    "\n",
    "Why do we need a control group:\n",
    "\n",
    "    The role of a control group is assess the increments between the target city and control city, it works like a baseline to investigate the factors that might be affecting the increase of the prices in the target group."
   ]
  },
  {
   "cell_type": "markdown",
   "metadata": {},
   "source": [
    "## 3 - b) Using Text Features as Control"
   ]
  },
  {
   "cell_type": "markdown",
   "metadata": {},
   "source": [
    "Why Text Features Help:\n",
    "\n",
    "    Capture descriptive characteristics: The descriptions of the houses likely contain information that affects house prices but isn't captured by simple variables like Treatment, Time_Period, or Ratings. For example, the description could contain details about the size, condition, amenities, or unique features of the property, which may correlate with higher or lower prices.\n",
    "    Improve model accuracy: By including text features as controls, you allow the model to adjust for these extra factors, which may improve its explanatory power and accuracy in estimating the effect of Treatment or Time_Period on prices.\n",
    "    Identify trends and patterns: If certain terms in the descriptions (e.g., \"luxury,\" \"ocean view,\" \"newly renovated\") are strongly correlated with higher prices, incorporating those text features into the model helps identify and quantify these effects.\n",
    "\n",
    " Why Terms Like \"Barcelona\" May Not Help:\n",
    "\n",
    "    Location already controlled: If you're comparing Barcelona (treated group) and Valencia (control group), the model already controls for the location through the Treatment variable. Including \"Barcelona\" in the text features would be redundant and could lead to multicollinearity because the location (Barcelona) is already represented by the Treatment variable (which distinguishes between treated and control groups).\n",
    "    Lack of additional predictive power: \"Barcelona\" itself in the text might not provide new, useful information for predicting prices because the model already knows which observations are from Barcelona based on the Treatment variable. Including it as a text feature could just add noise rather than useful signal."
   ]
  },
  {
   "cell_type": "code",
   "execution_count": null,
   "metadata": {},
   "outputs": [],
   "source": [
    "text_features = pd.read_csv('')"
   ]
  },
  {
   "cell_type": "code",
   "execution_count": null,
   "metadata": {},
   "outputs": [],
   "source": [
    "merged_data = "
   ]
  },
  {
   "cell_type": "code",
   "execution_count": null,
   "metadata": {},
   "outputs": [],
   "source": [
    "import statsmodels.formula.api as smf\n",
    "\n",
    "# Assuming merged_data contains all necessary columns including Prices, Ratings, Treatment, and the TF-IDF features\n",
    "model = smf.ols('Prices ~ Treatment + Time_Period + Treatment*Time_Period + Ratings + ' + ' + '.join(text_features.columns), data=merged_data).fit()\n",
    "print(model.summary())"
   ]
  },
  {
   "cell_type": "markdown",
   "metadata": {},
   "source": [
    "## 3 - c) Decompose the treatment effect"
   ]
  },
  {
   "cell_type": "markdown",
   "metadata": {},
   "source": [
    "To decompose the treatment effect by hotel quality, one can use the text description features as a proxy for quality, and then study how the treatment effect varies depending on this quality. This approach allows one to analyze heterogeneous treatment effects, i.e., whether the treatment (Barcelona vs. Valencia) has different impacts on hotels with different levels of quality."
   ]
  },
  {
   "cell_type": "markdown",
   "metadata": {},
   "source": [
    "$$\n",
    "\\begin{split}\n",
    "\\text{Prices}_i &= \\beta_0 + \\beta_1 \\text{Treatment}_i + \\beta_2 \\text{Time\\_Period}_i + \\beta_3 (\\text{Treatment}_i \\times \\text{Time\\_Period}_i) \\\\\n",
    "&\\quad + \\beta_4 \\text{Ratings}_i + \\beta_5 \\text{Quality}_i + \\beta_6 (\\text{Treatment}_i \\times \\text{Quality}_i) + \\epsilon_i\n",
    "\\end{split}\n",
    "$$"
   ]
  },
  {
   "cell_type": "markdown",
   "metadata": {},
   "source": [
    "To **decompose the treatment effect by hotel quality**, you can use the text description features as a proxy for quality, and then study how the treatment effect varies depending on this quality. This approach allows you to analyze **heterogeneous treatment effects**, i.e., whether the treatment (Barcelona vs. Valencia) has different impacts on hotels with different levels of quality.\n",
    "\n",
    "### Step 1: **Defining Hotel Quality Using Text Features**\n",
    "Hotel quality can be represented in the text description through the **TF-IDF features**. Higher quality hotels might use certain words in their descriptions that correlate with better facilities, location, amenities, or condition. These words (e.g., \"luxury,\" \"modern,\" \"renovated\") could act as proxies for hotel quality.\n",
    "\n",
    "To simplify, you could **aggregate** certain features from the text (e.g., by using the sum or average of TF-IDF values of specific words that indicate quality) to create a new variable representing **hotel quality**. For example, you might create a quality index using a weighted sum of the TF-IDF values of specific high-quality-related words (e.g., \"luxury\", \"elegant\", \"premium\").\n",
    "\n",
    "Alternatively, you could use a **principal component analysis (PCA)** to reduce the dimensionality of the text features and extract a \"quality\" component that summarizes the textual features related to quality.\n",
    "\n",
    "### Step 2: **Regression for Heterogeneous Treatment Effects**\n",
    "To study heterogeneous treatment effects, you can interact the treatment variable (Barcelona vs. Valencia) with the **quality index** or the extracted quality component.\n",
    "\n",
    "The **regression equation** to study heterogeneous treatment effects might look like this:\n",
    "\n",
    "\\[\n",
    "\\text{Prices}_i = \\beta_0 + \\beta_1 \\text{Treatment}_i + \\beta_2 \\text{Time_Period}_i + \\beta_3 (\\text{Treatment}_i \\times \\text{Time_Period}_i) + \\beta_4 \\text{Ratings}_i + \\beta_5 \\text{Quality}_i + \\beta_6 (\\text{Treatment}_i \\times \\text{Quality}_i) + \\epsilon_i\n",
    "\\]\n",
    "\n",
    "Where:\n",
    "- **Prices**: Dependent variable (house prices).\n",
    "- **Treatment**: Binary variable indicating if the hotel is in Barcelona (treated group) or Valencia (control group).\n",
    "- **Time_Period**: Indicator for the time period (before or after the treatment period).\n",
    "- **Treatment \\(\\times\\) Time_Period**: Interaction term representing the Difference-in-Differences (DiD) estimator.\n",
    "- **Ratings**: Numeric feature for hotel ratings.\n",
    "- **Quality**: A continuous variable representing the quality of the hotel, either based on an aggregated quality index or a dimension extracted from the text (e.g., PCA).\n",
    "- **Treatment \\(\\times\\) Quality**: Interaction term that captures **heterogeneous treatment effects** by hotel quality.\n",
    "- \\(\\epsilon_i\\): Error term.\n",
    "\n",
    "### Step 3: **Interpretation**\n",
    "1. **Main effects**:\n",
    "   - \\(\\beta_1\\) captures the overall treatment effect (Barcelona vs. Valencia) on house prices.\n",
    "   - \\(\\beta_5\\) measures the effect of hotel quality on prices, independent of treatment and time period.\n",
    "   \n",
    "2. **Interaction terms**:\n",
    "   - \\(\\beta_6\\) is the key coefficient. It captures how the treatment effect differs depending on hotel quality. \n",
    "     - If \\(\\beta_6\\) is positive, it suggests that the treatment (being in Barcelona) has a **larger positive effect** on higher-quality hotels.\n",
    "     - If \\(\\beta_6\\) is negative, it implies that the treatment has a **smaller or even negative effect** on higher-quality hotels compared to lower-quality hotels.\n",
    "\n",
    "### Step 4: **Steps to Implement**\n",
    "1. **Create the Quality variable**:\n",
    "   - If you're using an **aggregated text feature** (like a weighted sum of TF-IDF scores for quality-related words), create the quality variable in your dataset.\n",
    "   - If using **PCA**, run PCA on the text features and extract the first principal component (or a set of components that explain most of the variance), which can be interpreted as the quality index.\n",
    "\n",
    "2. **Run the regression** with the **interaction term** \\(\\text{Treatment} \\times \\text{Quality}\\).\n",
    "\n",
    "3. **Interpret the results**, particularly \\(\\beta_6\\), to understand how the treatment effect differs by hotel quality.\n",
    "\n",
    "### Example Use Case\n",
    "- **High-quality hotels** (with more \"luxury\" and \"premium\" words in their descriptions) may see a larger **positive price increase** in Barcelona compared to **low-quality hotels**. This could reflect the fact that the treatment (being in Barcelona) increases demand more for higher-end hotels due to location desirability or other factors.\n",
    "  \n",
    "By including the interaction between **Treatment** and **Quality**, you're able to see how the effect of the treatment differs depending on the quality of the hotels, offering a more nuanced understanding of the treatment's impact."
   ]
  }
 ],
 "metadata": {
  "kernelspec": {
   "display_name": "textmining",
   "language": "python",
   "name": "python3"
  },
  "language_info": {
   "codemirror_mode": {
    "name": "ipython",
    "version": 3
   },
   "file_extension": ".py",
   "mimetype": "text/x-python",
   "name": "python",
   "nbconvert_exporter": "python",
   "pygments_lexer": "ipython3",
   "version": "3.12.8"
  }
 },
 "nbformat": 4,
 "nbformat_minor": 2
}
